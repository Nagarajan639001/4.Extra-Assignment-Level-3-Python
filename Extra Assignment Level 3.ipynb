{
 "cells": [
  {
   "cell_type": "code",
   "execution_count": null,
   "id": "6a3c6a58-ffe7-4059-8c8e-b499713fec9a",
   "metadata": {},
   "outputs": [],
   "source": [
    "# print 'Correct' if i=10"
   ]
  },
  {
   "cell_type": "code",
   "execution_count": null,
   "id": "6df3ca3c-a700-47cc-804c-e7cdd1258c24",
   "metadata": {},
   "outputs": [],
   "source": [
    "i= int(input(\"Value\"))\n",
    "if i==10:\n",
    "    print(\"Correct\")\n",
    "    "
   ]
  },
  {
   "cell_type": "code",
   "execution_count": null,
   "id": "e20ced9c-b26c-41fe-8c57-6c49c76f459e",
   "metadata": {},
   "outputs": [],
   "source": [
    "#Check the password using If and else\n"
   ]
  },
  {
   "cell_type": "code",
   "execution_count": 1,
   "id": "76acc44d-01e9-4ca6-9577-9bbeebdd8170",
   "metadata": {},
   "outputs": [
    {
     "name": "stdin",
     "output_type": "stream",
     "text": [
      "Enter the Password HOPE@123\n"
     ]
    },
    {
     "name": "stdout",
     "output_type": "stream",
     "text": [
      "Correct\n"
     ]
    }
   ],
   "source": [
    "name =input(\"Enter the Password\")\n",
    "if name==\"HOPE@123\":\n",
    "    print(\"Correct\")\n",
    "else:\n",
    "    print(\"not Correct\")"
   ]
  },
  {
   "cell_type": "code",
   "execution_count": null,
   "id": "b36e2e59-3f53-47d7-8a48-6d0c90fbf102",
   "metadata": {},
   "outputs": [],
   "source": [
    "#Category the people by their age Like Children,adult,Citizen,Senior Citizen\n"
   ]
  },
  {
   "cell_type": "code",
   "execution_count": 15,
   "id": "c94b341f-3471-4645-b3fb-f6b3ab9ebb1c",
   "metadata": {},
   "outputs": [
    {
     "name": "stdin",
     "output_type": "stream",
     "text": [
      "age: 20\n"
     ]
    },
    {
     "name": "stdout",
     "output_type": "stream",
     "text": [
      "adult\n"
     ]
    }
   ],
   "source": [
    "cat=int(input(\"age:\"))\n",
    "if cat<18:\n",
    "    print(\"Children\")\n",
    "elif cat>=18 and cat<=28:\n",
    "    print(\"adult\")\n",
    "elif cat>=28 and cat<=60:\n",
    "    print(\"Citizen\")\n",
    "else:\n",
    "    print(\"Senior Citizen\")\n",
    "    "
   ]
  },
  {
   "cell_type": "code",
   "execution_count": null,
   "id": "3bd16b9c-3a3c-4779-a8b1-9ba2f0b6c3f5",
   "metadata": {},
   "outputs": [],
   "source": []
  },
  {
   "cell_type": "code",
   "execution_count": 17,
   "id": "b7e81ce6-e84f-4b0d-99f7-a02ecaa9784a",
   "metadata": {},
   "outputs": [
    {
     "name": "stdin",
     "output_type": "stream",
     "text": [
      "Enter any number: 1\n"
     ]
    },
    {
     "name": "stdout",
     "output_type": "stream",
     "text": [
      "No is Positive\n"
     ]
    }
   ],
   "source": [
    "# Find whther given numbers is Positive or negative\n",
    "num =int(input(\"Enter any number:\"))\n",
    "if num>=0:\n",
    "    print(\"No is Positive\")\n",
    "else:\n",
    "    print(\"No. is Negative\")\n"
   ]
  },
  {
   "cell_type": "code",
   "execution_count": null,
   "id": "8b4dee95-5321-4647-84b4-935a7dd9181f",
   "metadata": {},
   "outputs": [],
   "source": [
    "# Check whteher the given number is divisible by 5\n",
    "num=int(input(\"Enter a Number to Check:\"))\n",
    "if num%5==0:\n",
    "        print(\"No. is divisible by 5\")\n",
    "else:\n",
    "    print(\"No.is not divisible by 5\")"
   ]
  },
  {
   "cell_type": "code",
   "execution_count": null,
   "id": "9c34d244-5e6a-420c-9772-5694cc2b8e24",
   "metadata": {},
   "outputs": [],
   "source": []
  }
 ],
 "metadata": {
  "kernelspec": {
   "display_name": "Python 3 (ipykernel)",
   "language": "python",
   "name": "python3"
  },
  "language_info": {
   "codemirror_mode": {
    "name": "ipython",
    "version": 3
   },
   "file_extension": ".py",
   "mimetype": "text/x-python",
   "name": "python",
   "nbconvert_exporter": "python",
   "pygments_lexer": "ipython3",
   "version": "3.12.4"
  }
 },
 "nbformat": 4,
 "nbformat_minor": 5
}
